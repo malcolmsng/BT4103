{
  "cells": [
    {
      "cell_type": "markdown",
      "metadata": {
        "id": "p4v8W2zSINSG"
      },
      "source": [
        "# Imports"
      ]
    },
    {
      "cell_type": "code",
      "execution_count": 2,
      "metadata": {
        "id": "Xc90cv5DHleF"
      },
      "outputs": [],
      "source": [
        "import numpy as np\n",
        "import pandas as pd\n",
        "import matplotlib.pyplot as plt\n",
        "import nltk"
      ]
    },
    {
      "cell_type": "markdown",
      "metadata": {
        "id": "_VNMhLMGITUu"
      },
      "source": [
        "# Import Dataset"
      ]
    },
    {
      "cell_type": "code",
      "execution_count": 3,
      "metadata": {
        "colab": {
          "base_uri": "https://localhost:8080/",
          "height": 358
        },
        "id": "88zWsDd5IPiv",
        "outputId": "869d5274-12d0-419d-c35d-b946443337b4"
      },
      "outputs": [
        {
          "name": "stdout",
          "output_type": "stream",
          "text": [
            "     Item Id Submit Date                                              Title  \\\n",
            "0  DEF016683    4/3/2022  INC_00023776 - TA Deferred Refund - error enco...   \n",
            "1  DEF016763   23/3/2022  PWD/WTCS Concession Pilot Users PWD fare is ch...   \n",
            "2  DEF016766   24/3/2022  [BS39] - CT-CC - Devices allow to buy concessi...   \n",
            "3  DEF016770   29/3/2022  INC_00024000 : SMRT : Nets inventory is showin...   \n",
            "4  DEF016775   31/3/2022  [ABT][SYSS]EOD0000331 job doesn't have depende...   \n",
            "\n",
            "                                         Description Phase Found      State  \\\n",
            "0  Test Steps:\\n \\nExpected Result:\\n \\nActual Re...  Production     Closed   \n",
            "1  Test Steps:\\n \\nExpected Result:\\n \\nActual Re...  Production     Closed   \n",
            "2  Test Steps:\\n1. Set the ticket type 1 to expir...  Production     Closed   \n",
            "3  Nets inventory is showing inaccuracy informati...  Production     Closed   \n",
            "4  Test Steps:\\n\\n\\n1. Ensure EOD0000413(CTC Post...  Production  Scheduled   \n",
            "\n",
            "  Severity Module/Device Type Text Module/Device Varient OIC Team Default  \\\n",
            "0    CAT B             Application                  CMSE              BOS   \n",
            "1    CAT B        TABA Application             TABA.TXNP              BOS   \n",
            "2    CAT B                     GTM                   CTK              DMT   \n",
            "3    CAT B                     PSM                 PSM 4              DMT   \n",
            "4    CAT B        TABA Application             TABA.SYSS              BOS   \n",
            "\n",
            "   ... Primary Root Cause Classification #2 Remark.1  \\\n",
            "0  ...                   Product Limitation      NaN   \n",
            "1  ...                          Logic Error      NaN   \n",
            "2  ...                                  NaN      NaN   \n",
            "3  ...                          Logic Error      NaN   \n",
            "4  ...                          Logic Error      NaN   \n",
            "\n",
            "             Proposed solution to prevent recurrence  \\\n",
            "0  More extensive testing required to uncover com...   \n",
            "1  Need to consider boundary conditions when deve...   \n",
            "2  review of test case created by developer and u...   \n",
            "3  design guideline and coding practice to update...   \n",
            "4  Fix has been delivered in BS40.\\n\\nUpdated dep...   \n",
            "\n",
            "                                           Test Lead  \\\n",
            "0  RS138 Test Lead - Jessie Chua\\nBS39 Test Lead ...   \n",
            "1                                         Esther Ong   \n",
            "2                                         Esther Ong   \n",
            "3                                         Esther Ong   \n",
            "4                                         Esther Ong   \n",
            "\n",
            "      Why defect was not identifierd during testing?  \\\n",
            "0  Test cases was not chosen in all tiers for con...   \n",
            "1  Test cases was not chosen based on the impact ...   \n",
            "2  Test cases was not chosen based on the impact ...   \n",
            "3                    Issue not observed in Test Lab.   \n",
            "4                    Issue not observed in Test Lab.   \n",
            "\n",
            "  Are related requirements recorded in the BR or UCS?.1  \\\n",
            "0                                                Yes      \n",
            "1                                                Yes      \n",
            "2                                                Yes      \n",
            "3                                                Yes      \n",
            "4                                                 No      \n",
            "\n",
            "  If prior response is \"Yes\", list down the BR or UCS document number(s) and clause identifier(s).1  \\\n",
            "0                                 L1081/SYS/BRUL/036                                                  \n",
            "1                                                NaN                                                  \n",
            "2                                                NaN                                                  \n",
            "3                                                NaN                                                  \n",
            "4                                                NaN                                                  \n",
            "\n",
            "                Primary Root Cause Classification #3 Remark.2  \\\n",
            "0  RS138 & BS39\\nThe impact was documented in RS1...      NaN   \n",
            "1                                  Missing Test Case      NaN   \n",
            "2                                  Missing Test Case      NaN   \n",
            "3           Test & Production Environment Difference      NaN   \n",
            "4             Test & Production Operation Difference      NaN   \n",
            "\n",
            "           Proposed solution to prevent recurrence.1  \n",
            "0  Test Activities (BS & RS)\\nFormalise the detai...  \n",
            "1   To increase test coverage for concession card \\n  \n",
            "2    To increase test coverage for concession card\\n  \n",
            "3  To in-synch FT parameters with production para...  \n",
            "4  Dev to provide root cause analysis on how the ...  \n",
            "\n",
            "[5 rows x 33 columns]\n"
          ]
        }
      ],
      "source": [
        "sample_data = pd.read_csv(\"./data/sample_data.csv\", skiprows= 1)\n",
        "df = pd.DataFrame(sample_data)\n",
        "print(df.head())"
      ]
    },
    {
      "attachments": {},
      "cell_type": "markdown",
      "metadata": {},
      "source": [
        "# EDA"
      ]
    },
    {
      "cell_type": "code",
      "execution_count": 4,
      "metadata": {
        "id": "hGlIIp3OIeDM"
      },
      "outputs": [
        {
          "name": "stdout",
          "output_type": "stream",
          "text": [
            "<class 'pandas.core.frame.DataFrame'>\n",
            "RangeIndex: 19 entries, 0 to 18\n",
            "Data columns (total 33 columns):\n",
            " #   Column                                                                                             Non-Null Count  Dtype  \n",
            "---  ------                                                                                             --------------  -----  \n",
            " 0   Item Id                                                                                            19 non-null     object \n",
            " 1   Submit Date                                                                                        19 non-null     object \n",
            " 2   Title                                                                                              19 non-null     object \n",
            " 3   Description                                                                                        19 non-null     object \n",
            " 4   Phase Found                                                                                        19 non-null     object \n",
            " 5   State                                                                                              19 non-null     object \n",
            " 6   Severity                                                                                           19 non-null     object \n",
            " 7   Module/Device Type Text                                                                            19 non-null     object \n",
            " 8   Module/Device Varient                                                                              19 non-null     object \n",
            " 9   OIC Team Default                                                                                   19 non-null     object \n",
            " 10  Software Version                                                                                   15 non-null     object \n",
            " 11  Defect Owner                                                                                       19 non-null     object \n",
            " 12  Associated Prj                                                                                     19 non-null     object \n",
            " 13  Name                                                                                               9 non-null      object \n",
            " 14  Organisation\n",
            "[e.g. LTA-FS,\n",
            "LTA-FS-Insource,\n",
            "MSI, IBM, etc]                                         15 non-null     object \n",
            " 15  Remark                                                                                             6 non-null      object \n",
            " 16  Development Lead                                                                                   17 non-null     object \n",
            " 17  What happened?                                                                                     19 non-null     object \n",
            " 18  Are related requirements recorded in the BR or UCS?                                                18 non-null     object \n",
            " 19  If prior response is \"Yes\", list down the BR or UCS document number(s) and clause identifier(s)    3 non-null      object \n",
            " 20  Why was defect introduced?                                                                         17 non-null     object \n",
            " 21  What could have been done to avoid introduction of defect?                                         19 non-null     object \n",
            " 22  Primary Root Cause Classification #1                                                               18 non-null     object \n",
            " 23  Primary Root Cause Classification #2                                                               18 non-null     object \n",
            " 24  Remark.1                                                                                           2 non-null      object \n",
            " 25  Proposed solution to prevent recurrence                                                            14 non-null     object \n",
            " 26  Test Lead                                                                                          18 non-null     object \n",
            " 27  Why defect was not identifierd during testing?                                                     19 non-null     object \n",
            " 28  Are related requirements recorded in the BR or UCS?.1                                              19 non-null     object \n",
            " 29  If prior response is \"Yes\", list down the BR or UCS document number(s) and clause identifier(s).1  1 non-null      object \n",
            " 30  Primary Root Cause Classification #3                                                               19 non-null     object \n",
            " 31  Remark.2                                                                                           0 non-null      float64\n",
            " 32  Proposed solution to prevent recurrence.1                                                          19 non-null     object \n",
            "dtypes: float64(1), object(32)\n",
            "memory usage: 5.0+ KB\n"
          ]
        }
      ],
      "source": [
        "df.info()"
      ]
    },
    {
      "attachments": {},
      "cell_type": "markdown",
      "metadata": {},
      "source": [
        "# Data Cleaning"
      ]
    },
    {
      "cell_type": "code",
      "execution_count": 1,
      "metadata": {},
      "outputs": [
        {
          "name": "stdout",
          "output_type": "stream",
          "text": [
            "temp\n"
          ]
        }
      ],
      "source": [
        "print(\"temp\")"
      ]
    },
    {
      "attachments": {},
      "cell_type": "markdown",
      "metadata": {},
      "source": [
        "# Analysis on Root Causes"
      ]
    },
    {
      "cell_type": "markdown",
      "metadata": {},
      "source": []
    },
    {
      "attachments": {},
      "cell_type": "markdown",
      "metadata": {},
      "source": [
        "# NLP Model for Textual Classification"
      ]
    },
    {
      "cell_type": "markdown",
      "metadata": {},
      "source": []
    }
  ],
  "metadata": {
    "colab": {
      "provenance": []
    },
    "kernelspec": {
      "display_name": "Python 3.9.7 ('base')",
      "language": "python",
      "name": "python3"
    },
    "language_info": {
      "codemirror_mode": {
        "name": "ipython",
        "version": 3
      },
      "file_extension": ".py",
      "mimetype": "text/x-python",
      "name": "python",
      "nbconvert_exporter": "python",
      "pygments_lexer": "ipython3",
      "version": "3.9.7"
    },
    "vscode": {
      "interpreter": {
        "hash": "55d22b35260bbaa19b38484025ecfa8720a645bca7c60f3a527ee7e8e11307f6"
      }
    }
  },
  "nbformat": 4,
  "nbformat_minor": 0
}
